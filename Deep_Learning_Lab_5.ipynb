{
 "cells": [
  {
   "cell_type": "code",
   "execution_count": 1,
   "id": "d3558750",
   "metadata": {},
   "outputs": [],
   "source": [
    "import torch"
   ]
  },
  {
   "cell_type": "code",
   "execution_count": 5,
   "id": "63dfa0c9",
   "metadata": {},
   "outputs": [],
   "source": [
    "class ActivationSigmoid:\n",
    "    def forward(self, inputs):\n",
    "        self.inputs = inputs\n",
    "        self.output = 1 / (1 + torch.exp(-inputs))\n",
    "\n",
    "    def backward(self, dvalues):\n",
    "        sigmoid_derivative = self.output * (1 - self.output)\n",
    "        self.dinputs = dvalues * sigmoid_derivative"
   ]
  },
  {
   "cell_type": "code",
   "execution_count": 6,
   "id": "3cba5548",
   "metadata": {},
   "outputs": [],
   "source": [
    "class ActivationReLU:\n",
    "    def forward(self, inputs):\n",
    "        self.inputs = inputs\n",
    "        self.output = torch.maximum(torch.tensor(0), inputs)\n",
    "\n",
    "    def backward(self, dvalues):\n",
    "        self.dinputs = dvalues.clone()\n",
    "        self.dinputs[self.inputs <= 0] = 0"
   ]
  },
  {
   "cell_type": "code",
   "execution_count": 7,
   "id": "e758f700",
   "metadata": {},
   "outputs": [],
   "source": [
    "class DenseLayer:\n",
    "    def __init__(self, n_inputs, n_neurons):\n",
    "        self.weights = 0.01 * torch.rand(n_inputs, n_neurons)\n",
    "        self.biases = torch.zeros((1, n_neurons))\n",
    "\n",
    "    def forward(self, inputs):\n",
    "        self.inputs = inputs\n",
    "        self.output = torch.matmul(inputs, self.weights) + self.biases\n",
    "\n",
    "    def backward(self, dvalues):\n",
    "        self.dweights = torch.matmul(self.inputs.T, dvalues)\n",
    "        self.dbiases = torch.sum(dvalues, axis=0, keepdims=True)\n",
    "        self.dinputs = torch.matmul(dvalues, self.weights.T)"
   ]
  },
  {
   "cell_type": "code",
   "execution_count": 8,
   "id": "09f63b98",
   "metadata": {},
   "outputs": [],
   "source": [
    "class LossMSE:\n",
    "    def forward(self, y_pred, y_true):\n",
    "        return torch.mean((y_pred - y_true) ** 2)\n",
    "\n",
    "    def backward(self, dvalues, y_true):\n",
    "        samples = len(dvalues)\n",
    "        outputs = len(dvalues[0])\n",
    "        self.dinputs = 2 * (dvalues - y_true) / outputs\n",
    "        self.dinputs = self.dinputs / samples"
   ]
  },
  {
   "cell_type": "code",
   "execution_count": null,
   "id": "1f710705",
   "metadata": {},
   "outputs": [],
   "source": [
    "\"\"\"\n",
    "Input: 2, Hidden layer: 2, activation: ReLU, output: 2, loss function: MSE, Learning rate: 0.1, Number of Epochs: 1000\n",
    "\"\"\"\n",
    "learning_rate = 0.1\n",
    "epochs = 1000\n",
    "\n",
    "layer1 = DenseLayer(2, 2)\n",
    "activation1 = Activation_ReLU()\n",
    "\n",
    "layer2 = DenseLayer(2, 2)\n",
    "activation2 = Activation_Sigmoid()\n",
    "\n",
    "loss_function = Loss_MSE()\n",
    "\n",
    "X = torch.tensor([[1.0, 2.0], [0.5, -1.0]])\n",
    "Y = torch.tensor([[1.0, 0.0], [0.0, 1.0]])\n",
    "\n",
    "\n",
    "layer1.forward(X)\n",
    "activation1.forward(layer1.output)\n",
    "\n",
    "layer2.forward(activation1.output)\n",
    "activation2.forward(layer2.output)\n",
    "\n",
    "initial_loss = loss_function.forward(activation2.output, Y)\n",
    "print(f'Initial Loss: {initial_loss}')\n",
    "\n",
    "for epoch in range(epochs):\n",
    "    layer1.forward(X)\n",
    "    activation1.forward(layer1.output)\n",
    "\n",
    "    layer2.forward(activation1.output)\n",
    "    activation2.forward(layer2.output)\n",
    "\n",
    "    loss = loss_function.forward(activation2.output, Y)\n",
    "\n",
    "    loss_function.backward(activation2.output, Y)\n",
    "    activation2.backward(loss_function.dinputs)\n",
    "\n",
    "    layer2.backward(activation2.dinputs)\n",
    "    activation1.backward(layer2.dinputs)\n",
    "\n",
    "    layer1.backward(activation1.dinputs)\n",
    "\n",
    "    layer1.weights -= learning_rate * layer1.dweights\n",
    "    layer1.biases -= learning_rate * layer1.dbiases\n",
    "\n",
    "    layer2.weights -= learning_rate * layer2.dweights\n",
    "    layer2.biases -= learning_rate * layer2.dbiases\n",
    "\n",
    "    if epoch % 100 == 0:\n",
    "        print(f'Epoch {epoch}, Loss: {loss}')"
   ]
  }
 ],
 "metadata": {
  "kernelspec": {
   "display_name": "Python 3 (ipykernel)",
   "language": "python",
   "name": "python3"
  },
  "language_info": {
   "codemirror_mode": {
    "name": "ipython",
    "version": 3
   },
   "file_extension": ".py",
   "mimetype": "text/x-python",
   "name": "python",
   "nbconvert_exporter": "python",
   "pygments_lexer": "ipython3",
   "version": "3.11.5"
  }
 },
 "nbformat": 4,
 "nbformat_minor": 5
}
