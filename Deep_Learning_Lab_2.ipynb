{
 "cells": [
  {
   "cell_type": "markdown",
   "metadata": {
    "colab_type": "text",
    "id": "view-in-github"
   },
   "source": [
    "<a href=\"https://colab.research.google.com/github/TesfayeAdugna/Deep-Learning/blob/main/Deep_learning_Lab_2.ipynb\" target=\"_parent\"><img src=\"https://colab.research.google.com/assets/colab-badge.svg\" alt=\"Open In Colab\"/></a>"
   ]
  },
  {
   "cell_type": "markdown",
   "metadata": {
    "id": "CBUg0x1abXW9"
   },
   "source": [
    "Coding Neural Networks Part 1"
   ]
  },
  {
   "cell_type": "code",
   "execution_count": 19,
   "metadata": {
    "colab": {
     "base_uri": "https://localhost:8080/"
    },
    "id": "FNGTVtTtbJOF",
    "outputId": "b026c2a5-de10-4c08-fc98-eb99686a02d1"
   },
   "outputs": [
    {
     "data": {
      "text/plain": [
       "<torch._C.Generator at 0x7a197a89a010>"
      ]
     },
     "execution_count": 19,
     "metadata": {},
     "output_type": "execute_result"
    }
   ],
   "source": [
    "import torch\n",
    "torch.manual_seed(27)"
   ]
  },
  {
   "cell_type": "code",
   "execution_count": 20,
   "metadata": {
    "colab": {
     "base_uri": "https://localhost:8080/"
    },
    "id": "P8e7FX9ZbTcU",
    "outputId": "8223b348-c0db-4abd-ce31-90f2b3218e5b"
   },
   "outputs": [
    {
     "name": "stdout",
     "output_type": "stream",
     "text": [
      "input:  tensor([0.9847, 0.0852, 0.5334, 0.2196])\n",
      "weights:  tensor([0.2617, 0.7972, 0.2088, 0.4545])\n",
      "bias:  1\n"
     ]
    }
   ],
   "source": [
    "# create four random inputs and weights\n",
    "random_input = torch.rand(4)\n",
    "random_weights = torch.rand(4)\n",
    "bias = 1\n",
    "\n",
    "print(\"input: \", random_input)\n",
    "print(\"weights: \", random_weights)\n",
    "print(\"bias: \", bias)"
   ]
  },
  {
   "cell_type": "code",
   "execution_count": 44,
   "metadata": {
    "colab": {
     "base_uri": "https://localhost:8080/"
    },
    "id": "Piy39Bv3dHf6",
    "outputId": "757b9d0c-daf7-4078-f71d-1222037d7b7a"
   },
   "outputs": [
    {
     "data": {
      "text/plain": [
       "tensor([1.4780, 0.6930, 1.0185, 0.8909, 1.4457])"
      ]
     },
     "execution_count": 44,
     "metadata": {},
     "output_type": "execute_result"
    }
   ],
   "source": [
    "# Neural Networks\n",
    "output = torch.matmul(random_input, random_weights) + bias\n",
    "output"
   ]
  },
  {
   "cell_type": "markdown",
   "metadata": {
    "id": "8s8SPrpCfJpa"
   },
   "source": [
    "Layer of Neurons"
   ]
  },
  {
   "cell_type": "code",
   "execution_count": 45,
   "metadata": {
    "colab": {
     "base_uri": "https://localhost:8080/"
    },
    "id": "wSjd8W6hfHAX",
    "outputId": "48c5bbed-2542-49e6-f47c-506ba15429fc"
   },
   "outputs": [
    {
     "data": {
      "text/plain": [
       "(tensor([[0.4201, 0.2394, 0.3168, 0.4007],\n",
       "         [0.9180, 0.8684, 0.0962, 0.4272],\n",
       "         [0.7926, 0.7292, 0.3444, 0.2531],\n",
       "         [0.1647, 0.0698, 0.0039, 0.4634],\n",
       "         [0.9401, 0.4076, 0.4564, 0.4963]]),\n",
       " tensor([0.4965, 0.9161, 0.6485, 0.4147]),\n",
       " tensor([0.7891, 0.9229, 0.4314, 0.2093, 0.2944]))"
      ]
     },
     "execution_count": 45,
     "metadata": {},
     "output_type": "execute_result"
    }
   ],
   "source": [
    "random_input2 = torch.rand(4)\n",
    "random_weight2 = torch.rand(size=(5, 4))\n",
    "bias = torch.rand(5)\n",
    "\n",
    "random_weight2, random_input2, bias"
   ]
  },
  {
   "cell_type": "code",
   "execution_count": 46,
   "metadata": {
    "colab": {
     "base_uri": "https://localhost:8080/"
    },
    "id": "XnJNWXB0grzC",
    "outputId": "fad3f724-519e-47e8-8d41-2360b9fefe7e"
   },
   "outputs": [
    {
     "data": {
      "text/plain": [
       "tensor([1.5886, 2.4138, 1.8213, 0.5498, 1.6364])"
      ]
     },
     "execution_count": 46,
     "metadata": {},
     "output_type": "execute_result"
    }
   ],
   "source": [
    "output2 = torch.matmul(random_input2, random_weight2.T) + bias\n",
    "\n",
    "output2"
   ]
  },
  {
   "cell_type": "code",
   "execution_count": 50,
   "metadata": {
    "colab": {
     "base_uri": "https://localhost:8080/"
    },
    "id": "FHR3lujbh_cj",
    "outputId": "5e5899e8-9706-4c05-8482-d97fb2df26e8"
   },
   "outputs": [
    {
     "data": {
      "text/plain": [
       "(tensor([1.5886, 2.4138, 1.8213, 0.5498, 1.6364]),\n",
       " tensor([[0.6614, 0.9880, 0.7962, 0.4405, 0.2676],\n",
       "         [0.7035, 0.8998, 0.6697, 0.9607, 0.6260]]),\n",
       " tensor([0.0420, 0.3316]))"
      ]
     },
     "execution_count": 50,
     "metadata": {},
     "output_type": "execute_result"
    }
   ],
   "source": [
    "input2 = output2\n",
    "output_weight = torch.rand(size = (2, 5))\n",
    "bias2 = torch.rand(2)\n",
    "\n",
    "input2, output_weight, bias2"
   ]
  },
  {
   "cell_type": "code",
   "execution_count": 51,
   "metadata": {
    "colab": {
     "base_uri": "https://localhost:8080/"
    },
    "id": "A0H4wuWgkFQu",
    "outputId": "170321dd-c0a6-4878-ea1d-7bccd564dd68"
   },
   "outputs": [
    {
     "data": {
      "text/plain": [
       "tensor([5.6079, 6.3932])"
      ]
     },
     "execution_count": 51,
     "metadata": {},
     "output_type": "execute_result"
    }
   ],
   "source": [
    "final_output = torch.matmul(input2, output_weight.T) + bias2\n",
    "\n",
    "final_output"
   ]
  },
  {
   "cell_type": "markdown",
   "metadata": {
    "id": "vewZZRxPkgm9"
   },
   "source": [
    "Layer of Neurons & Batch of Data"
   ]
  },
  {
   "cell_type": "code",
   "execution_count": 52,
   "metadata": {
    "id": "AnaTtpOWkkeM"
   },
   "outputs": [],
   "source": [
    "inputs = torch.rand((32, 4))\n",
    "weights = torch.rand((5, 4))\n",
    "bias = torch.rand(5)"
   ]
  },
  {
   "cell_type": "code",
   "execution_count": 54,
   "metadata": {
    "colab": {
     "base_uri": "https://localhost:8080/"
    },
    "id": "QDe7e1hdlBo-",
    "outputId": "04ed7ba2-276e-4cee-d904-5e9e6afe65b6"
   },
   "outputs": [
    {
     "data": {
      "text/plain": [
       "tensor([[1.6578, 0.6399, 1.6438, 1.9912, 1.7682],\n",
       "        [1.7333, 0.7408, 2.0093, 2.1885, 1.8669],\n",
       "        [1.3750, 0.7987, 1.7969, 1.9656, 1.7197],\n",
       "        [1.5016, 0.5560, 1.8873, 1.9058, 1.5178],\n",
       "        [0.9822, 0.2375, 1.0338, 1.3535, 1.0584],\n",
       "        [1.3700, 0.3125, 1.2946, 1.5505, 1.2752],\n",
       "        [1.0107, 0.4089, 1.1451, 1.3649, 1.1577],\n",
       "        [1.9684, 0.6788, 1.8285, 2.2581, 2.0072],\n",
       "        [1.6186, 0.7664, 2.0344, 2.1617, 1.8217],\n",
       "        [1.6524, 0.6138, 1.5552, 1.9719, 1.7661],\n",
       "        [0.8688, 0.4755, 1.2917, 1.3138, 1.0746],\n",
       "        [1.7734, 0.5046, 1.5684, 2.0935, 1.8032],\n",
       "        [1.4054, 0.8139, 1.5283, 1.9046, 1.7933],\n",
       "        [1.1899, 0.7663, 1.3914, 1.7265, 1.6207],\n",
       "        [1.6182, 0.4769, 1.3160, 1.8676, 1.6727],\n",
       "        [1.0769, 0.8129, 1.6622, 1.7148, 1.5156],\n",
       "        [1.2310, 0.2901, 1.4539, 1.5045, 1.1290],\n",
       "        [1.6320, 0.7503, 1.9120, 2.1061, 1.8206],\n",
       "        [1.0302, 0.3266, 1.1387, 1.2943, 1.0614],\n",
       "        [1.4649, 0.3261, 1.6036, 1.6961, 1.3039],\n",
       "        [1.5729, 0.3944, 1.2201, 1.7993, 1.5881],\n",
       "        [0.9228, 0.3492, 1.0876, 1.2128, 1.0070],\n",
       "        [1.3821, 0.6182, 1.5722, 1.8653, 1.6063],\n",
       "        [1.4908, 0.7931, 1.6804, 2.0256, 1.8329],\n",
       "        [1.4410, 0.6694, 1.2186, 1.9564, 1.8442],\n",
       "        [1.5473, 0.5891, 1.5837, 1.9397, 1.6838],\n",
       "        [1.2163, 0.5182, 1.4034, 1.6208, 1.3798],\n",
       "        [1.3632, 0.5877, 1.2710, 1.7514, 1.6083],\n",
       "        [1.4927, 0.4121, 1.3111, 1.6430, 1.4403],\n",
       "        [1.2957, 0.4488, 1.4760, 1.6112, 1.3247],\n",
       "        [1.8070, 0.6512, 1.7488, 2.1126, 1.8676],\n",
       "        [1.4130, 0.7302, 1.3405, 1.8150, 1.7428]])"
      ]
     },
     "execution_count": 54,
     "metadata": {},
     "output_type": "execute_result"
    }
   ],
   "source": [
    "outputs = torch.matmul(inputs, weights.T) + bias\n",
    "outputs"
   ]
  },
  {
   "cell_type": "markdown",
   "metadata": {
    "id": "sieqb9LfmB86"
   },
   "source": [
    "Adding Layers"
   ]
  },
  {
   "cell_type": "code",
   "execution_count": 61,
   "metadata": {
    "id": "itBNEetKlK9I"
   },
   "outputs": [],
   "source": [
    "inputs_1 = torch.rand((32, 4))\n",
    "weights_1 = torch.rand((5, 4))\n",
    "bias_1 = torch.rand(5)"
   ]
  },
  {
   "cell_type": "code",
   "execution_count": 62,
   "metadata": {
    "id": "-lTraUTXmN_t"
   },
   "outputs": [],
   "source": [
    "outputs_1 = torch.matmul(inputs_1, weights_1.T) + bias_1"
   ]
  },
  {
   "cell_type": "code",
   "execution_count": 63,
   "metadata": {
    "id": "qzmUaZQgnddt"
   },
   "outputs": [],
   "source": [
    "inputs_layer_2 = outputs_1\n",
    "weights_layer_2 = torch.rand(5, 5)\n",
    "bias_2 = torch.rand(5)"
   ]
  },
  {
   "cell_type": "code",
   "execution_count": 64,
   "metadata": {
    "id": "OlzCkkwmnvmI"
   },
   "outputs": [],
   "source": [
    "outputs_layer_2 = torch.matmul(inputs_layer_2, weights_layer_2.T) + bias_2"
   ]
  },
  {
   "cell_type": "code",
   "execution_count": 69,
   "metadata": {
    "id": "dnNsjQQdn3qk"
   },
   "outputs": [],
   "source": [
    "inputs_final_layer = outputs_layer_2\n",
    "weights_final_layer = torch.rand(3, 5)\n",
    "bias_3 = torch.rand(3)"
   ]
  },
  {
   "cell_type": "code",
   "execution_count": 70,
   "metadata": {
    "id": "6D_t2u19oIkx"
   },
   "outputs": [],
   "source": [
    "final_output = torch.matmul(inputs_final_layer, weights_final_layer.T) + bias_3"
   ]
  },
  {
   "cell_type": "code",
   "execution_count": 71,
   "metadata": {
    "colab": {
     "base_uri": "https://localhost:8080/"
    },
    "id": "3HIWVX50oml9",
    "outputId": "a56511bd-95d6-4bed-e276-59e4ca067a84"
   },
   "outputs": [
    {
     "data": {
      "text/plain": [
       "tensor([[13.3733, 11.9974,  8.7112],\n",
       "        [18.2123, 16.9043, 11.8584],\n",
       "        [18.6544, 17.8000, 12.2994],\n",
       "        [17.6266, 16.5511, 11.5652],\n",
       "        [18.8958, 17.7403, 12.3614],\n",
       "        [16.6239, 15.5461, 10.9206],\n",
       "        [17.5408, 15.9060, 11.3266],\n",
       "        [14.5377, 13.2258,  9.4774],\n",
       "        [16.4196, 15.4554, 10.8203],\n",
       "        [16.4145, 15.7662, 10.9014],\n",
       "        [17.0562, 15.5944, 11.0669],\n",
       "        [18.4698, 17.5606, 12.1556],\n",
       "        [18.8285, 17.2628, 12.2053],\n",
       "        [16.1146, 15.2211, 10.6311],\n",
       "        [15.1287, 13.9376,  9.9121],\n",
       "        [11.1162, 10.1980,  7.3783],\n",
       "        [13.1981, 12.1087,  8.7015],\n",
       "        [15.1101, 14.0765,  9.9464],\n",
       "        [13.3506, 12.3644,  8.8193],\n",
       "        [12.4742, 11.4622,  8.2230],\n",
       "        [17.8680, 17.1870, 11.8260],\n",
       "        [18.2681, 17.3540, 12.0194],\n",
       "        [14.2551, 12.6539,  9.2103],\n",
       "        [13.4646, 12.4606,  8.8908],\n",
       "        [15.0556, 14.1064,  9.9338],\n",
       "        [21.2563, 20.2190, 13.9304],\n",
       "        [20.0442, 18.6424, 13.0274],\n",
       "        [15.9970, 14.9936, 10.5464],\n",
       "        [15.6264, 14.2355, 10.1531],\n",
       "        [14.4239, 13.2629,  9.4500],\n",
       "        [14.3205, 13.4271,  9.4779],\n",
       "        [15.9899, 15.0249, 10.5315]])"
      ]
     },
     "execution_count": 71,
     "metadata": {},
     "output_type": "execute_result"
    }
   ],
   "source": [
    "final_output"
   ]
  },
  {
   "cell_type": "markdown",
   "metadata": {
    "id": "E6rsbELGouLd"
   },
   "source": [
    "Coding Neural Networks with OOP"
   ]
  },
  {
   "cell_type": "code",
   "execution_count": 92,
   "metadata": {
    "id": "6tGLIKCuoxld"
   },
   "outputs": [],
   "source": [
    "class DenseLayer:\n",
    "\n",
    "  def __init__(self, n_inputs, n_neurons):\n",
    "    # Initialize weights and biases\n",
    "    self.weight = 0.01 * torch.rand((n_inputs, n_neurons))\n",
    "    self.bias = torch.zeros(1, n_neurons)\n",
    "\n",
    "  def forward(self, inputs):\n",
    "    # calculate output values from inputs, weights and biases\n",
    "    self.output = torch.matmul(inputs, self.weight) + self.bias\n",
    "\n"
   ]
  },
  {
   "cell_type": "code",
   "execution_count": 93,
   "metadata": {
    "id": "ytbcR50uq_Au"
   },
   "outputs": [],
   "source": [
    "x = torch.rand((2, 4))\n",
    "\n",
    "layer1 = DenseLayer(4, 6)\n",
    "layer2 = DenseLayer(6, 5)\n",
    "output_layer = DenseLayer(5, 2)"
   ]
  },
  {
   "cell_type": "code",
   "execution_count": 94,
   "metadata": {
    "id": "DATANWgtshHt"
   },
   "outputs": [],
   "source": [
    "layer1.forward(x)\n",
    "layer2.forward(layer1.output)\n",
    "output_layer.forward(layer2.output)"
   ]
  },
  {
   "cell_type": "code",
   "execution_count": 95,
   "metadata": {
    "colab": {
     "base_uri": "https://localhost:8080/"
    },
    "id": "sXclr8_LtIpg",
    "outputId": "a69d301a-ddba-46af-b472-ac2e4b299b5f"
   },
   "outputs": [
    {
     "data": {
      "text/plain": [
       "tensor([[6.8961e-06, 8.6846e-06],\n",
       "        [8.9482e-06, 1.1346e-05]])"
      ]
     },
     "execution_count": 95,
     "metadata": {},
     "output_type": "execute_result"
    }
   ],
   "source": [
    "output_layer.output"
   ]
  },
  {
   "cell_type": "code",
   "execution_count": 96,
   "metadata": {
    "id": "GaOC0PrNvSXm"
   },
   "outputs": [],
   "source": [
    "# assignment\n",
    "# 5 inputs\n",
    "# 3 hidden layers: 16 layer, 16 layer, 16 layer\n",
    "# 5 classes"
   ]
  },
  {
   "cell_type": "code",
   "execution_count": 105,
   "metadata": {
    "id": "cT_UqPKJvWnp"
   },
   "outputs": [],
   "source": [
    "X = torch.rand((20, 5))\n",
    "layer_1 = DenseLayer(5, 16)\n",
    "layer_2 = DenseLayer(16, 16)\n",
    "layer_3 = DenseLayer(16, 16)\n",
    "output_layer = DenseLayer(16, 5)"
   ]
  },
  {
   "cell_type": "code",
   "execution_count": 107,
   "metadata": {
    "id": "vWnr_cJNwVDQ"
   },
   "outputs": [],
   "source": [
    "layer_1.forward(X)\n",
    "layer_2.forward(layer_1.output)\n",
    "layer_3.forward(layer_2.output)\n",
    "output_layer.forward(layer_3.output)"
   ]
  },
  {
   "cell_type": "code",
   "execution_count": 108,
   "metadata": {
    "colab": {
     "base_uri": "https://localhost:8080/"
    },
    "id": "u-7lu4_0xBIa",
    "outputId": "ac2cd998-d9f7-483f-eb2b-ea63d76edf31"
   },
   "outputs": [
    {
     "data": {
      "text/plain": [
       "tensor([[7.4318e-06, 6.8600e-06, 7.7325e-06, 8.1184e-06, 7.9275e-06],\n",
       "        [8.3484e-06, 7.7146e-06, 8.6956e-06, 9.1200e-06, 8.9052e-06],\n",
       "        [5.4097e-06, 4.9973e-06, 5.6341e-06, 5.9087e-06, 5.7719e-06],\n",
       "        [5.9143e-06, 5.4646e-06, 6.1621e-06, 6.4602e-06, 6.3103e-06],\n",
       "        [5.7407e-06, 5.3044e-06, 5.9808e-06, 6.2696e-06, 6.1260e-06],\n",
       "        [4.0185e-06, 3.7112e-06, 4.1818e-06, 4.3908e-06, 4.2851e-06],\n",
       "        [8.1868e-06, 7.5610e-06, 8.5219e-06, 8.9430e-06, 8.7330e-06],\n",
       "        [4.6664e-06, 4.3076e-06, 4.8556e-06, 5.0977e-06, 4.9774e-06],\n",
       "        [3.9238e-06, 3.6256e-06, 4.0853e-06, 4.2874e-06, 4.1842e-06],\n",
       "        [6.3551e-06, 5.8716e-06, 6.6191e-06, 6.9417e-06, 6.7801e-06],\n",
       "        [6.4402e-06, 5.9486e-06, 6.7050e-06, 7.0351e-06, 6.8701e-06],\n",
       "        [5.9720e-06, 5.5212e-06, 6.2221e-06, 6.5243e-06, 6.3699e-06],\n",
       "        [3.8618e-06, 3.5652e-06, 4.0206e-06, 4.2176e-06, 4.1209e-06],\n",
       "        [2.0495e-06, 1.8934e-06, 2.1329e-06, 2.2397e-06, 2.1851e-06],\n",
       "        [7.8637e-06, 7.2622e-06, 8.1848e-06, 8.5904e-06, 8.3880e-06],\n",
       "        [7.4796e-06, 6.9094e-06, 7.7886e-06, 8.1708e-06, 7.9787e-06],\n",
       "        [7.2175e-06, 6.6716e-06, 7.5203e-06, 7.8844e-06, 7.6994e-06],\n",
       "        [8.3014e-06, 7.6710e-06, 8.6459e-06, 9.0685e-06, 8.8554e-06],\n",
       "        [5.7965e-06, 5.3578e-06, 6.0407e-06, 6.3314e-06, 6.1846e-06],\n",
       "        [6.7084e-06, 6.1958e-06, 6.9851e-06, 7.3272e-06, 7.1573e-06]])"
      ]
     },
     "execution_count": 108,
     "metadata": {},
     "output_type": "execute_result"
    }
   ],
   "source": [
    "output_layer.output"
   ]
  }
 ],
 "metadata": {
  "colab": {
   "authorship_tag": "ABX9TyNO6jW27GMf+D0nkVdn4F6L",
   "include_colab_link": true,
   "provenance": []
  },
  "kernelspec": {
   "display_name": "Python 3 (ipykernel)",
   "language": "python",
   "name": "python3"
  },
  "language_info": {
   "codemirror_mode": {
    "name": "ipython",
    "version": 3
   },
   "file_extension": ".py",
   "mimetype": "text/x-python",
   "name": "python",
   "nbconvert_exporter": "python",
   "pygments_lexer": "ipython3",
   "version": "3.11.5"
  }
 },
 "nbformat": 4,
 "nbformat_minor": 1
}
