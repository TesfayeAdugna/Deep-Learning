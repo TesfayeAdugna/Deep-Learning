{
  "nbformat": 4,
  "nbformat_minor": 0,
  "metadata": {
    "colab": {
      "provenance": [],
      "authorship_tag": "ABX9TyN3xYqPjRwOvrTkWsnelkW6",
      "include_colab_link": true
    },
    "kernelspec": {
      "name": "python3",
      "display_name": "Python 3"
    },
    "language_info": {
      "name": "python"
    }
  },
  "cells": [
    {
      "cell_type": "markdown",
      "metadata": {
        "id": "view-in-github",
        "colab_type": "text"
      },
      "source": [
        "<a href=\"https://colab.research.google.com/github/TesfayeAdugna/Deep-Learning/blob/main/deep_learning_lab3.ipynb\" target=\"_parent\"><img src=\"https://colab.research.google.com/assets/colab-badge.svg\" alt=\"Open In Colab\"/></a>"
      ]
    },
    {
      "cell_type": "code",
      "execution_count": 63,
      "metadata": {
        "id": "poXca_a-JJr2"
      },
      "outputs": [],
      "source": [
        "import torch"
      ]
    },
    {
      "cell_type": "code",
      "source": [
        "# ReLU activation\n",
        "class Activation_ReLU:\n",
        "  # Forward pass\n",
        "  def forward(self, inputs):\n",
        "    # Calculate output values from input\n",
        "    self.output = torch.max(torch.tensor(0.5), inputs)"
      ],
      "metadata": {
        "id": "fo7x3jE1KoII"
      },
      "execution_count": 64,
      "outputs": []
    },
    {
      "cell_type": "code",
      "source": [
        "# Softmax activation\n",
        "class Activation_Softmax:\n",
        "  # Forward pass\n",
        "  def forward(self, inputs):\n",
        "    # Get unnormalized probabilities\n",
        "    exp_values = torch.exp(inputs - torch.max(inputs, dim=1, keepdim=True).values)\n",
        "    # Normalize them for each sample\n",
        "    probabilities = exp_values / torch.sum(exp_values, dim=1, keepdim=True)\n",
        "    self.output = probabilities"
      ],
      "metadata": {
        "id": "LODVS63pLmfT"
      },
      "execution_count": 65,
      "outputs": []
    },
    {
      "cell_type": "code",
      "source": [
        "# Sigmoid activation\n",
        "class Activation_Sigmoid:\n",
        "  # Forward pass\n",
        "  def forward(self, inputs):\n",
        "    self.output = 1/(1 + torch.exp(-inputs))"
      ],
      "metadata": {
        "id": "WpzbPUjqL_3O"
      },
      "execution_count": 66,
      "outputs": []
    },
    {
      "cell_type": "code",
      "source": [
        "class Loss_CategoricalCrossentropy():\n",
        "  # Forward pass\n",
        "  def forward(self, y_pred, y_true):\n",
        "    # complete the code\n",
        "\n",
        "    log_likelihoods = -torch.sum(y_true * torch.log(y_pred))\n",
        "\n",
        "    return log_likelihoods"
      ],
      "metadata": {
        "id": "oJylOsQCMLyk"
      },
      "execution_count": 67,
      "outputs": []
    },
    {
      "cell_type": "code",
      "source": [
        "# Accuracy calculation\n",
        "class AccuracyCalculator:\n",
        "    def calculate_accuracy(self, y_true, y_pred):\n",
        "        if len(y_pred.shape) > 1:\n",
        "            y_pred = torch.argmax(y_pred, dim=1)\n",
        "\n",
        "        # Compare predicted labels to true labels\n",
        "        correct_predictions = (y_pred == y_true).float()\n",
        "\n",
        "        # Calculate accuracy\n",
        "        accuracy = torch.mean(correct_predictions).item()\n",
        "        return accuracy"
      ],
      "metadata": {
        "id": "RyY5WjEnN3_e"
      },
      "execution_count": 68,
      "outputs": []
    },
    {
      "cell_type": "code",
      "source": [
        "# Sample data\n",
        "X = torch.rand(10, 4)  # 10 samples, each with 4 features\n",
        "y_true = torch.randint(0, 4, size=(4,))\n",
        "X, y_true"
      ],
      "metadata": {
        "colab": {
          "base_uri": "https://localhost:8080/"
        },
        "id": "GIUr7iquOI0z",
        "outputId": "07f42930-f4db-4636-ceb7-244b411b1ac3"
      },
      "execution_count": 74,
      "outputs": [
        {
          "output_type": "execute_result",
          "data": {
            "text/plain": [
              "(tensor([[0.8271, 0.5755, 0.3993, 0.2289],\n",
              "         [0.5516, 0.4295, 0.5034, 0.4927],\n",
              "         [0.2529, 0.7503, 0.1304, 0.3420],\n",
              "         [0.3403, 0.0449, 0.4137, 0.4990],\n",
              "         [0.6061, 0.1296, 0.7338, 0.6960],\n",
              "         [0.2193, 0.5044, 0.8466, 0.6371],\n",
              "         [0.7307, 0.5409, 0.8867, 0.8701],\n",
              "         [0.3944, 0.2456, 0.2540, 0.2694],\n",
              "         [0.9059, 0.5774, 0.7368, 0.4176],\n",
              "         [0.4645, 0.1372, 0.7907, 0.5357]]),\n",
              " tensor([2, 0, 1, 3]))"
            ]
          },
          "metadata": {},
          "execution_count": 74
        }
      ]
    },
    {
      "cell_type": "code",
      "source": [
        "# ReLU activation\n",
        "relu_activation = Activation_ReLU()\n",
        "relu_activation.forward(X)\n",
        "relu_activation.output"
      ],
      "metadata": {
        "colab": {
          "base_uri": "https://localhost:8080/"
        },
        "id": "tOSUD-TlOQG5",
        "outputId": "0c913a4e-8caa-449e-878d-041b674d2386"
      },
      "execution_count": 75,
      "outputs": [
        {
          "output_type": "execute_result",
          "data": {
            "text/plain": [
              "tensor([[0.8271, 0.5755, 0.5000, 0.5000],\n",
              "        [0.5516, 0.5000, 0.5034, 0.5000],\n",
              "        [0.5000, 0.7503, 0.5000, 0.5000],\n",
              "        [0.5000, 0.5000, 0.5000, 0.5000],\n",
              "        [0.6061, 0.5000, 0.7338, 0.6960],\n",
              "        [0.5000, 0.5044, 0.8466, 0.6371],\n",
              "        [0.7307, 0.5409, 0.8867, 0.8701],\n",
              "        [0.5000, 0.5000, 0.5000, 0.5000],\n",
              "        [0.9059, 0.5774, 0.7368, 0.5000],\n",
              "        [0.5000, 0.5000, 0.7907, 0.5357]])"
            ]
          },
          "metadata": {},
          "execution_count": 75
        }
      ]
    },
    {
      "cell_type": "code",
      "source": [
        "# Softmax activation\n",
        "softmax_activation = Activation_Softmax()\n",
        "softmax_activation.forward(X)\n",
        "softmax_activation.output"
      ],
      "metadata": {
        "colab": {
          "base_uri": "https://localhost:8080/"
        },
        "id": "yTlrrnAaOT6s",
        "outputId": "da78bad4-6e16-41e7-dd4d-6fd5f189b9b4"
      },
      "execution_count": 76,
      "outputs": [
        {
          "output_type": "execute_result",
          "data": {
            "text/plain": [
              "tensor([[0.3357, 0.2610, 0.2188, 0.1845],\n",
              "        [0.2645, 0.2341, 0.2520, 0.2494],\n",
              "        [0.2163, 0.3558, 0.1914, 0.2365],\n",
              "        [0.2505, 0.1864, 0.2696, 0.2936],\n",
              "        [0.2597, 0.1612, 0.2950, 0.2841],\n",
              "        [0.1748, 0.2325, 0.3273, 0.2654],\n",
              "        [0.2412, 0.1995, 0.2820, 0.2773],\n",
              "        [0.2768, 0.2385, 0.2405, 0.2442],\n",
              "        [0.3147, 0.2265, 0.2657, 0.1931],\n",
              "        [0.2392, 0.1724, 0.3315, 0.2569]])"
            ]
          },
          "metadata": {},
          "execution_count": 76
        }
      ]
    },
    {
      "cell_type": "code",
      "source": [
        "# Sigmoid activation\n",
        "sigmoid_activation = Activation_Sigmoid()\n",
        "sigmoid_activation.forward(X)\n",
        "sigmoid_activation.output"
      ],
      "metadata": {
        "colab": {
          "base_uri": "https://localhost:8080/"
        },
        "id": "cfyeMSSzOWcw",
        "outputId": "018594d2-8547-42e7-a7de-8b2b75a08035"
      },
      "execution_count": 77,
      "outputs": [
        {
          "output_type": "execute_result",
          "data": {
            "text/plain": [
              "tensor([[0.6957, 0.6400, 0.5985, 0.5570],\n",
              "        [0.6345, 0.6058, 0.6233, 0.6207],\n",
              "        [0.5629, 0.6792, 0.5326, 0.5847],\n",
              "        [0.5843, 0.5112, 0.6020, 0.6222],\n",
              "        [0.6471, 0.5324, 0.6756, 0.6673],\n",
              "        [0.5546, 0.6235, 0.6998, 0.6541],\n",
              "        [0.6750, 0.6320, 0.7082, 0.7048],\n",
              "        [0.5973, 0.5611, 0.5632, 0.5670],\n",
              "        [0.7122, 0.6405, 0.6763, 0.6029],\n",
              "        [0.6141, 0.5342, 0.6880, 0.6308]])"
            ]
          },
          "metadata": {},
          "execution_count": 77
        }
      ]
    },
    {
      "cell_type": "code",
      "source": [
        "# Categorical Crossentropy loss\n",
        "categorical_crossentropy_loss = Loss_CategoricalCrossentropy()\n",
        "loss = categorical_crossentropy_loss.forward(softmax_activation.output, y_true)\n",
        "loss"
      ],
      "metadata": {
        "colab": {
          "base_uri": "https://localhost:8080/"
        },
        "id": "cK7RJhZVOeBd",
        "outputId": "005d076a-e4f9-4719-c084-c5c01dd41a1f"
      },
      "execution_count": 78,
      "outputs": [
        {
          "output_type": "execute_result",
          "data": {
            "text/plain": [
              "tensor(82.8469)"
            ]
          },
          "metadata": {},
          "execution_count": 78
        }
      ]
    },
    {
      "cell_type": "code",
      "source": [
        "# Categorical Crossentropy loss\n",
        "categorical_crossentropy_loss = Loss_CategoricalCrossentropy()\n",
        "loss = categorical_crossentropy_loss.forward(relu_activation.output, y_true)\n",
        "loss"
      ],
      "metadata": {
        "colab": {
          "base_uri": "https://localhost:8080/"
        },
        "id": "XzDly0wTP-Wa",
        "outputId": "c1be6502-b2ee-40f0-d616-a68e3c5973d1"
      },
      "execution_count": 79,
      "outputs": [
        {
          "output_type": "execute_result",
          "data": {
            "text/plain": [
              "tensor(32.1297)"
            ]
          },
          "metadata": {},
          "execution_count": 79
        }
      ]
    },
    {
      "cell_type": "code",
      "source": [
        "# Categorical Crossentropy loss\n",
        "categorical_crossentropy_loss = Loss_CategoricalCrossentropy()\n",
        "loss = categorical_crossentropy_loss.forward(sigmoid_activation.output, y_true)\n",
        "loss"
      ],
      "metadata": {
        "colab": {
          "base_uri": "https://localhost:8080/"
        },
        "id": "lMRqGE2gQL08",
        "outputId": "5f966bf3-60e7-4f61-e968-7bb0e8d93aa1"
      },
      "execution_count": 80,
      "outputs": [
        {
          "output_type": "execute_result",
          "data": {
            "text/plain": [
              "tensor(28.2962)"
            ]
          },
          "metadata": {},
          "execution_count": 80
        }
      ]
    },
    {
      "cell_type": "code",
      "source": [
        "# Accuracy calculation\n",
        "accuracy_calculator = AccuracyCalculator()\n",
        "y_true = torch.randint(0, 4, size=(10,))\n",
        "accuracy = accuracy_calculator.calculate_accuracy(y_true, softmax_activation.output.argmax(dim=1))\n",
        "accuracy"
      ],
      "metadata": {
        "colab": {
          "base_uri": "https://localhost:8080/"
        },
        "id": "b9FaiHyCRL66",
        "outputId": "7914ad38-b2a6-4c3c-b7ae-62c36110e859"
      },
      "execution_count": 82,
      "outputs": [
        {
          "output_type": "execute_result",
          "data": {
            "text/plain": [
              "0.20000000298023224"
            ]
          },
          "metadata": {},
          "execution_count": 82
        }
      ]
    },
    {
      "cell_type": "code",
      "source": [
        "print(f\"Accuracy: {accuracy * 100:.2f}%\")"
      ],
      "metadata": {
        "colab": {
          "base_uri": "https://localhost:8080/"
        },
        "id": "dYMp8H0QvFg7",
        "outputId": "e7b514ea-9997-40b1-e820-def2a458fbab"
      },
      "execution_count": 83,
      "outputs": [
        {
          "output_type": "stream",
          "name": "stdout",
          "text": [
            "Accuracy: 20.00%\n"
          ]
        }
      ]
    }
  ]
}