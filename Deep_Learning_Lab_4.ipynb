{
 "cells": [
  {
   "cell_type": "code",
   "execution_count": 2,
   "id": "66591e31",
   "metadata": {},
   "outputs": [],
   "source": [
    "import torch"
   ]
  },
  {
   "cell_type": "code",
   "execution_count": 3,
   "id": "48a94890",
   "metadata": {},
   "outputs": [],
   "source": [
    "class ActivationSigmoid:\n",
    "    def forward(self, inputs):\n",
    "        self.output = 1/(1+torch.exp(-inputs))"
   ]
  },
  {
   "cell_type": "code",
   "execution_count": 4,
   "id": "718d9709",
   "metadata": {},
   "outputs": [],
   "source": [
    "class ActivationLinear:\n",
    "    def forward(self, inputs):\n",
    "        self.output = inputs"
   ]
  },
  {
   "cell_type": "code",
   "execution_count": 12,
   "id": "cad4f8e7",
   "metadata": {},
   "outputs": [],
   "source": [
    "class DenseLayer:\n",
    "    def __init__(self, n_features, n_neurons, activation_fun):\n",
    "        self.weights = 0.01 * torch.rand((n_features, n_neurons))\n",
    "        self.biases = torch.zeros((1, n_neurons))\n",
    "        self.output = None\n",
    "        self.activation_fun = activation_fun\n",
    "        \n",
    "    def forward(self, inputs):\n",
    "        weighted_sum = torch.matmul(inputs, self.weights) + self.biases\n",
    "        self.activation_fun.forward(weighted_sum)\n",
    "        self.output = self.activation_fun.output\n",
    "        \n",
    "    def get_output(self):\n",
    "        return self.output"
   ]
  },
  {
   "cell_type": "code",
   "execution_count": 13,
   "id": "dcaa42f4",
   "metadata": {},
   "outputs": [],
   "source": [
    "class LossMSE:\n",
    "    def forward(self, y_pred, y_true):\n",
    "        self.output = torch.mean((y_pred - y_true)**2)\n",
    "        return self.output"
   ]
  },
  {
   "cell_type": "code",
   "execution_count": 16,
   "id": "64a85177",
   "metadata": {},
   "outputs": [],
   "source": [
    "\"\"\"\n",
    "Architecture:\n",
    "Input: 2, Hidden layer: 4, activation: sigmoid, output: 2, Hyperparameters: loss function: MSE, Learning rate: 0.001, Number of Epochs: 1000\n",
    "\"\"\"\n",
    "def backward_propagation(X, y, hidden_layer, output_layer, activation_hidden, activation_output, loss_function, learning_rate=0.01):\n",
    "    loss = loss_function.forward(output_layer.get_output(), y)\n",
    "    \n",
    "    back_output = 2*(output_layer.get_output()-y)\n",
    "    output_layer.weights -= learning_rate * torch.matmul(hidden_layer.get_output().T, back_output)\n",
    "    output_layer.biases -= learning_rate * torch.sum(back_output, axis = 0, keepdim=True)\n",
    "    \n",
    "    back_hidden = torch.matmul(back_output, output_layer.weights.T)\n",
    "    back_hidden *= (hidden_layer.get_output() * (1 - hidden_layer.get_output()))\n",
    "    hidden_layer.weights -= learning_rate * torch.matmul(X.T, back_hidden)\n",
    "    hidden_layer.biases -= learning_rate * torch.sum(back_hidden, axis=0, keepdim=True)\n",
    "\n",
    "    return loss\n"
   ]
  },
  {
   "cell_type": "code",
   "execution_count": 17,
   "id": "02b6497d",
   "metadata": {},
   "outputs": [
    {
     "name": "stdout",
     "output_type": "stream",
     "text": [
      "Initial loss: 0.5130482316017151\n",
      "Initial prediction: tensor([[0.0063, 0.0103]])\n",
      "Epoch 0, Loss: 0.5089472532272339\n",
      "Epoch 100, Loss: 0.22792719304561615\n",
      "Epoch 200, Loss: 0.10179740190505981\n",
      "Epoch 300, Loss: 0.04532473534345627\n",
      "Epoch 400, Loss: 0.020127516239881516\n",
      "Epoch 500, Loss: 0.008920165710151196\n",
      "Epoch 600, Loss: 0.0039475117810070515\n",
      "Epoch 700, Loss: 0.0017451572930440307\n",
      "Epoch 800, Loss: 0.0007709802594035864\n",
      "Epoch 900, Loss: 0.00034044316271319985\n",
      "Final loss: 0.00015151695697568357\n",
      "Final prediction: tensor([[0.6415, 0.7768]])\n",
      "Target value: tensor([[0.6526, 0.7902]])\n"
     ]
    }
   ],
   "source": [
    "x = torch.rand((1, 2))\n",
    "y = torch.rand((1, 2))\n",
    "\n",
    "activation_hidden = ActivationSigmoid()\n",
    "activation_output = ActivationLinear()\n",
    "hidden_layer = DenseLayer(n_features=2, n_neurons=4, activation_fun=activation_hidden)\n",
    "output_layer = DenseLayer(n_features=4, n_neurons=2, activation_fun=activation_output)\n",
    "\n",
    "loss_function = LossMSE()\n",
    "\n",
    "learning_rate = 0.001\n",
    "num_epochs = 1000\n",
    "\n",
    "hidden_layer.forward(x)\n",
    "output_layer.forward(hidden_layer.output)\n",
    "y_pred = output_layer.output\n",
    "initial_loss = loss_function.forward(y_pred, y)\n",
    "\n",
    "print(\"Initial loss:\", initial_loss.item())\n",
    "print(\"Initial prediction:\", y_pred)\n",
    "\n",
    "for epoch in range(num_epochs):\n",
    "    loss = backward_propagation(x, y, hidden_layer, output_layer, activation_hidden, activation_output, loss_function, learning_rate=learning_rate)\n",
    "\n",
    "    hidden_layer.forward(x)\n",
    "    output_layer.forward(hidden_layer.get_output())\n",
    "    y_pred = output_layer.output\n",
    "    # Calculate error for convergence check\n",
    "    err = loss_function.forward(y_pred, y)\n",
    "\n",
    "    if epoch % 100 == 0:\n",
    "        print(f\"Epoch {epoch}, Loss: {err.item()}\")\n",
    "\n",
    "    # Convergence check\n",
    "    if err <= 0.0001:\n",
    "        print(\"Converged at epoch\", epoch)\n",
    "        break\n",
    "\n",
    "print(\"Final loss:\", err.item())\n",
    "print(\"Final prediction:\", y_pred)\n",
    "print(\"Target value:\", y)"
   ]
  },
  {
   "cell_type": "code",
   "execution_count": null,
   "id": "23366cc2",
   "metadata": {},
   "outputs": [],
   "source": []
  }
 ],
 "metadata": {
  "kernelspec": {
   "display_name": "Python 3 (ipykernel)",
   "language": "python",
   "name": "python3"
  },
  "language_info": {
   "codemirror_mode": {
    "name": "ipython",
    "version": 3
   },
   "file_extension": ".py",
   "mimetype": "text/x-python",
   "name": "python",
   "nbconvert_exporter": "python",
   "pygments_lexer": "ipython3",
   "version": "3.11.5"
  }
 },
 "nbformat": 4,
 "nbformat_minor": 5
}
